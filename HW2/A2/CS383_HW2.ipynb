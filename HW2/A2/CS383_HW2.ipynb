{
  "cells": [
    {
      "cell_type": "markdown",
      "metadata": {
        "id": "IF0p7aIIEWbZ"
      },
      "source": [
        "#Section 1. Theory"
      ]
    },
    {
      "cell_type": "code",
      "execution_count": null,
      "metadata": {
        "colab": {
          "base_uri": "https://localhost:8080/"
        },
        "id": "PR-eFRKwDDZW",
        "outputId": "d1d89781-193c-4e33-b503-be09d0f64480"
      },
      "outputs": [],
      "source": [
        "\n"
      ]
    },
    {
      "cell_type": "code",
      "execution_count": null,
      "metadata": {
        "colab": {
          "base_uri": "https://localhost:8080/"
        },
        "id": "i_dRNdZ1Hf76",
        "outputId": "dd7bd09b-abc5-4b58-bf45-89c451f829e6"
      },
      "outputs": [],
      "source": []
    },
    {
      "cell_type": "code",
      "execution_count": null,
      "metadata": {
        "colab": {
          "base_uri": "https://localhost:8080/",
          "height": 281
        },
        "id": "o-EBQB2FcIL6",
        "outputId": "4e2aaa9d-7d41-4c06-c04e-f3314d39f7f7"
      },
      "outputs": [],
      "source": []
    },
    {
      "cell_type": "markdown",
      "metadata": {
        "id": "aBt94-0fzzjM"
      },
      "source": [
        "#Section 2. Closed Form Linear Regression"
      ]
    },
    {
      "cell_type": "markdown",
      "metadata": {
        "id": "CidQRKLXzskI"
      },
      "source": [
        "\n",
        "\n",
        "> Import Necessary Libraries\n",
        "\n"
      ]
    },
    {
      "cell_type": "code",
      "execution_count": 7,
      "metadata": {
        "id": "sXAVIOC7vzsb"
      },
      "outputs": [],
      "source": [
        "import numpy as np\n",
        "import matplotlib.pyplot as plt\n",
        "from sklearn.model_selection import train_test_split as tts"
      ]
    },
    {
      "cell_type": "markdown",
      "metadata": {
        "id": "K7eEXHytzvEz"
      },
      "source": [
        "> Reading in the Data\n",
        ">> Randomizing the Data\n",
        "\n",
        ">> Splitting the data into X and Y vectors"
      ]
    },
    {
      "cell_type": "code",
      "execution_count": 8,
      "metadata": {
        "id": "pcWzY3LQv65C"
      },
      "outputs": [],
      "source": [
        "# Read in the data\n",
        "data = np.genfromtxt('spambase.data', delimiter=',', usecols=(i for i in range(1,58)))\n",
        "dataMat = np.array(data)\n",
        "# Set RNG with seed = 0\n",
        "np.random.seed(0)\n",
        "np.random.shuffle(dataMat)\n",
        "# Splitting the data into X and Y vectors\n",
        "X = dataMat[:, :-1]\n",
        "Y =  np.reshape(dataMat[:, -1], (-1, 1))\n"
      ]
    },
    {
      "cell_type": "markdown",
      "metadata": {
        "id": "jTefGvMH0L8m"
      },
      "source": [
        "> Train-Test Split on the data"
      ]
    },
    {
      "cell_type": "code",
      "execution_count": 9,
      "metadata": {
        "id": "QyX0EBgjyEK1"
      },
      "outputs": [],
      "source": [
        "# Split the training and testing sets in a 2:1 ratio\n",
        "trainX, testX, trainY, testY = tts(X, Y, test_size=0.33, random_state=1, shuffle=False)"
      ]
    },
    {
      "cell_type": "markdown",
      "metadata": {
        "id": "rw_UFnfn033A"
      },
      "source": [
        "> Standardizing the Data using the training data\n",
        ">> Take the mean and the standard deviation"
      ]
    },
    {
      "cell_type": "code",
      "execution_count": 10,
      "metadata": {
        "id": "Wvd4FvXVzo_P"
      },
      "outputs": [],
      "source": [
        "mean = trainX.mean(axis=0)\n",
        "std = trainX.std(axis=0, ddof=1)\n",
        "trainX_std = (trainX - mean) / std\n",
        "bias = np.ones((trainX_std.shape[0], 1))\n",
        "x = np.append(bias, trainX_std , axis=1)\n",
        "y = trainY"
      ]
    },
    {
      "cell_type": "code",
      "execution_count": 11,
      "metadata": {},
      "outputs": [],
      "source": [
        "def RMSE(thetas, x, y, mean, std):\n",
        "    x_std = (x - mean) / std\n",
        "    x = np.append(np.ones((x_std.shape[0], 1)), x_std , axis=1)\n",
        "    diff = np.array(y - (x @ thetas))\n",
        "    return np.sqrt((diff ** 2).mean())"
      ]
    },
    {
      "cell_type": "code",
      "execution_count": 15,
      "metadata": {
        "colab": {
          "base_uri": "https://localhost:8080/"
        },
        "id": "cc35Ps3h1w1K",
        "outputId": "6d60fae7-b6b6-4a80-d4d3-9ae551c83053"
      },
      "outputs": [
        {
          "name": "stdout",
          "output_type": "stream",
          "text": [
            "theta_0: 0.4023\n",
            "theta_1: -0.0160\n",
            "theta_2: 0.0202\n",
            "theta_3: 0.0150\n",
            "theta_4: 0.0579\n",
            "theta_5: 0.0425\n",
            "theta_6: 0.0770\n",
            "theta_7: 0.0367\n",
            "theta_8: 0.0136\n",
            "theta_9: 0.0193\n",
            "theta_10: 0.0027\n",
            "theta_11: -0.0272\n",
            "theta_12: -0.0032\n",
            "theta_13: 0.0018\n",
            "theta_14: 0.0045\n",
            "theta_15: 0.0689\n",
            "theta_16: 0.0258\n",
            "theta_17: 0.0329\n",
            "theta_18: 0.0208\n",
            "theta_19: 0.0333\n",
            "theta_20: 0.0577\n",
            "theta_21: 0.0423\n",
            "theta_22: 0.0596\n",
            "theta_23: 0.0352\n",
            "theta_24: -0.0372\n",
            "theta_25: -0.0196\n",
            "theta_26: -0.0369\n",
            "theta_27: -0.0005\n",
            "theta_28: -0.0064\n",
            "theta_29: -0.0179\n",
            "theta_30: -0.0049\n",
            "theta_31: 0.0564\n",
            "theta_32: -0.0236\n",
            "theta_33: -0.0459\n",
            "theta_34: -0.0162\n",
            "theta_35: 0.0016\n",
            "theta_36: -0.0116\n",
            "theta_37: -0.0172\n",
            "theta_38: -0.0070\n",
            "theta_39: 0.0273\n",
            "theta_40: -0.0027\n",
            "theta_41: -0.0268\n",
            "theta_42: -0.0172\n",
            "theta_43: -0.0199\n",
            "theta_44: -0.0333\n",
            "theta_45: -0.0354\n",
            "theta_46: -0.0127\n",
            "theta_47: -0.0158\n",
            "theta_48: -0.0328\n",
            "theta_49: -0.0190\n",
            "theta_50: -0.0061\n",
            "theta_51: 0.0738\n",
            "theta_52: 0.0498\n",
            "theta_53: 0.0112\n",
            "theta_54: 0.0082\n",
            "theta_55: 0.0090\n",
            "theta_56: 0.0500\n",
            "$y =  0.4023 -0.0160x_1 +0.0202x_2 +0.0150x_3 +0.0579x_4 +0.0425x_5 +0.0770x_6 +0.0367x_7 +0.0136x_8 +0.0193x_9 +0.0027x_10 -0.0272x_11 -0.0032x_12 +0.0018x_13 +0.0045x_14 +0.0689x_15 +0.0258x_16 +0.0329x_17 +0.0208x_18 +0.0333x_19 +0.0577x_20 +0.0423x_21 +0.0596x_22 +0.0352x_23 -0.0372x_24 -0.0196x_25 -0.0369x_26 -0.0005x_27 -0.0064x_28 -0.0179x_29 -0.0049x_30 +0.0564x_31 -0.0236x_32 -0.0459x_33 -0.0162x_34 +0.0016x_35 -0.0116x_36 -0.0172x_37 -0.0070x_38 +0.0273x_39 -0.0027x_40 -0.0268x_41 -0.0172x_42 -0.0199x_43 -0.0333x_44 -0.0354x_45 -0.0127x_46 -0.0158x_47 -0.0328x_48 -0.0190x_49 -0.0061x_50 +0.0738x_51 +0.0498x_52 +0.0112x_53 +0.0082x_54 +0.0090x_55 +0.0500x_56$\n",
            "RMSE = 0.3423\n"
          ]
        }
      ],
      "source": [
        "eta = 0.01\n",
        "i = 0\n",
        "term = 2 ** -23\n",
        "rmseTest = lambda thetas: RMSE(thetas, x=testX, y=testY, mean=mean, std=std)\n",
        "thetas = np.random.uniform(-1, 1, (x.shape[1], 1))\n",
        "\n",
        "rmse_test = [rmseTest(thetas)]\n",
        "while i < 1500:\n",
        "  gradient = 2 * x.T @ ((x @ thetas) - y)\n",
        "  # update thetas by batch gradient descent\n",
        "  thetas -= eta / trainX.shape[0] * gradient\n",
        "  rmse_test.append(rmseTest(thetas))\n",
        "  if np.abs(rmse_test[i+1] - rmse_test[i]) / rmse_test[i] < term:\n",
        "    break\n",
        "  i+=1\n",
        "rmse = rmse_test[min(1_500 , i)]\n",
        "\n",
        "res = \"$y = \"\n",
        "for idx, theta in enumerate(thetas):\n",
        "  print(f'theta_{idx}: {theta[0]:0.4f}')\n",
        "  if idx == 0:\n",
        "    res += f'{theta[0]:= 0.4f}'\n",
        "  else:\n",
        "    res += f' {theta[0]:=+0.4f}x_{idx}'\n",
        "res += \"$\"\n",
        "  \n",
        "print(res)\n",
        "print(f'RMSE = {rmse:0.4f}')"
      ]
    },
    {
      "cell_type": "markdown",
      "metadata": {
        "id": "9bI2bpag2jab"
      },
      "source": [
        "$y = 3275.6667 + 1097.6031x_{1} -259.3279x_{2}$"
      ]
    },
    {
      "cell_type": "markdown",
      "metadata": {
        "id": "nUhQCko4w1oc"
      },
      "source": [
        "#Section 4. Gradient Descent"
      ]
    },
    {
      "cell_type": "code",
      "execution_count": null,
      "metadata": {
        "id": "ndZ3IGgQxgPY"
      },
      "outputs": [],
      "source": [
        "import numpy as np\n",
        "import matplotlib.pyplot as plt\n",
        "from sklearn.model_selection import train_test_split as tts"
      ]
    },
    {
      "cell_type": "code",
      "execution_count": null,
      "metadata": {
        "id": "nHQWcr1zxot7"
      },
      "outputs": [],
      "source": [
        "# Read in the data\n",
        "data = np.genfromtxt('x06Simple.csv', delimiter=',', skip_header=1, usecols=(1,2,3))\n",
        "dataMat = np.array(data)\n",
        "# Set RNG with seed = 0\n",
        "np.random.seed(0)\n",
        "np.random.shuffle(dataMat)\n",
        "# Splitting the data into X and Y vectors\n",
        "X = dataMat[:, :-1]\n",
        "Y =  np.reshape(dataMat[:, -1], (-1, 1))"
      ]
    },
    {
      "cell_type": "code",
      "execution_count": null,
      "metadata": {
        "id": "yD02y0luxsi8"
      },
      "outputs": [],
      "source": [
        "trainX, testX, trainY, testY = tts(X, Y, test_size=0.33, random_state=1, shuffle=False)"
      ]
    },
    {
      "cell_type": "code",
      "execution_count": null,
      "metadata": {
        "id": "xqx9a0mGxwgo"
      },
      "outputs": [],
      "source": [
        "mean = trainX.mean(axis=0)\n",
        "std = trainX.std(axis=0, ddof=1)\n",
        "trainX_std = (trainX - mean) / std\n",
        "testX_std = (testX - mean) / std\n",
        "bias = np.ones((trainX_std.shape[0], 1))\n",
        "x = np.append(bias, trainX_std , axis=1)\n",
        "y = trainY"
      ]
    },
    {
      "cell_type": "code",
      "execution_count": null,
      "metadata": {
        "colab": {
          "base_uri": "https://localhost:8080/"
        },
        "id": "cnCwLgm1xb_v",
        "outputId": "e7cdc561-274a-4ca7-b0e1-ff5bd37ee4a9"
      },
      "outputs": [
        {
          "name": "stdout",
          "output_type": "stream",
          "text": [
            "theta_0: 3343.2651\n",
            "theta_1: 1036.6251\n",
            "theta_2: -295.6675\n",
            "$y =  3343.2651 +1036.6251x_1 -295.6675x_2$\n",
            "RMSE = 653.7564\n"
          ]
        }
      ],
      "source": [
        "eta = 0.01\n",
        "i = 0\n",
        "term = 2 ** -23\n",
        "rmseTrain = lambda thetas: RMSE(thetas, x=trainX, y=trainY,  mean=mean, std=std)\n",
        "rmseTest = lambda thetas: RMSE(thetas, x=testX, y=testY, mean=mean, std=std)\n",
        "thetas = np.random.uniform(-1, 1, (3, 1))\n",
        "\n",
        "rmse_test = [rmseTest(thetas)]\n",
        "rmse_train = [rmseTrain(thetas)]\n",
        "while i < 1000:\n",
        "  gradient = 2 * x.T @ ((x @ thetas) - y)\n",
        "  # update thetas by batch gradient descent\n",
        "  thetas -= eta / trainX.shape[0] * gradient\n",
        "  rmse_test.append(rmseTest(thetas))\n",
        "  rmse_train.append(rmseTrain(thetas))\n",
        "  if np.abs(rmse_test[i+1] - rmse_test[i]) / rmse_test[i] < term:\n",
        "    break\n",
        "  i+=1\n",
        "rmse = rmse_test[i+1]\n",
        "\n",
        "res = \"$y = \"\n",
        "for idx, theta in enumerate(thetas):\n",
        "  print(f'theta_{idx}: {theta[0]:0.4f}')\n",
        "  if idx == 0:\n",
        "    res += f'{theta[0]:= 0.4f}'\n",
        "  else:\n",
        "    res += f' {theta[0]:=+0.4f}x_{idx}'\n",
        "res += \"$\"\n",
        "  \n",
        "print(res)\n",
        "print(f'RMSE = {rmse:0.4f}')"
      ]
    },
    {
      "cell_type": "markdown",
      "metadata": {
        "id": "U3GkXe5y0BuQ"
      },
      "source": [
        "# $y =  3343.2651 +1036.6251x_1 -295.6675x_2$\n",
        "# RMSE = 653.7564"
      ]
    },
    {
      "cell_type": "code",
      "execution_count": null,
      "metadata": {
        "colab": {
          "base_uri": "https://localhost:8080/",
          "height": 295
        },
        "id": "qgyPoxggmxHu",
        "outputId": "c7c367b7-8689-432a-b42f-feebbcd8e5ec"
      },
      "outputs": [
        {
          "data": {
            "image/png": "[encoded data removed]",
            "text/plain": [
              "<Figure size 432x288 with 1 Axes>"
            ]
          },
          "metadata": {
            "needs_background": "light"
          },
          "output_type": "display_data"
        }
      ],
      "source": [
        "import matplotlib.pyplot as plt\n",
        "\n",
        "plt.xlabel('Iteration #')\n",
        "plt.ylabel('RMSE Training')\n",
        "plt.title('RMSE Training vs Iteration')\n",
        "plt.plot(list(range(len(rmse_train))), rmse_train)\n",
        "plt.show()"
      ]
    },
    {
      "cell_type": "code",
      "execution_count": null,
      "metadata": {
        "colab": {
          "base_uri": "https://localhost:8080/",
          "height": 295
        },
        "id": "Q8d39fcOpcup",
        "outputId": "eda40122-f6f1-4b0a-c986-85fea9d5c0c9"
      },
      "outputs": [
        {
          "data": {
            "image/png": "[encoded data removed]",
            "text/plain": [
              "<Figure size 432x288 with 1 Axes>"
            ]
          },
          "metadata": {
            "needs_background": "light"
          },
          "output_type": "display_data"
        }
      ],
      "source": [
        "import matplotlib.pyplot as plt\n",
        "\n",
        "plt.xlabel('Iteration #')\n",
        "plt.ylabel('RMSE Testing')\n",
        "plt.title('RMSE Testing vs Iteration')\n",
        "plt.plot(list(range(len(rmse_test))), rmse_test)\n",
        "plt.show()"
      ]
    }
  ],
  "metadata": {
    "colab": {
      "collapsed_sections": [],
      "name": "CS383_HW1.ipynb",
      "provenance": []
    },
    "kernelspec": {
      "display_name": "Python 3.8.3 64-bit",
      "language": "python",
      "name": "python3"
    },
    "language_info": {
      "codemirror_mode": {
        "name": "ipython",
        "version": 3
      },
      "file_extension": ".py",
      "mimetype": "text/x-python",
      "name": "python",
      "nbconvert_exporter": "python",
      "pygments_lexer": "ipython3",
      "version": "3.8.3"
    },
    "vscode": {
      "interpreter": {
        "hash": "0b75f8f647cd181f09aab730a19140c67cc9b5de80cd4206b264327ba8fec1ce"
      }
    }
  },
  "nbformat": 4,
  "nbformat_minor": 0
}
