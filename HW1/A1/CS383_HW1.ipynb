{
  "cells": [
    {
      "cell_type": "markdown",
      "metadata": {
        "id": "IF0p7aIIEWbZ"
      },
      "source": [
        "#Section 1. Theory"
      ]
    },
    {
      "cell_type": "code",
      "execution_count": 103,
      "metadata": {
        "colab": {
          "base_uri": "https://localhost:8080/"
        },
        "id": "PR-eFRKwDDZW",
        "outputId": "d1d89781-193c-4e33-b503-be09d0f64480"
      },
      "outputs": [
        {
          "name": "stdout",
          "output_type": "stream",
          "text": [
            "theta_0: 1.0286\n",
            "theta_1: -0.4127\n"
          ]
        }
      ],
      "source": [
        "import numpy as np\n",
        "\n",
        "X = np.array([[1, -2] ,[1 , -5], [1,-3], [1, 0], [1,-8], [1,-2], [1,1],[1,5],[1,-1], [1,6]])\n",
        "Y = np.array([1,-4,1,3,11,5,0,-1,-3,1])\n",
        "\n",
        "thetas = np.linalg.inv(X.T @ X) @ X.T @ Y\n",
        "for idx, theta in enumerate(thetas):\n",
        "  print(f'theta_{idx}: {theta:0.4f}')\n"
      ]
    },
    {
      "cell_type": "code",
      "execution_count": 104,
      "metadata": {
        "colab": {
          "base_uri": "https://localhost:8080/"
        },
        "id": "i_dRNdZ1Hf76",
        "outputId": "dd7bd09b-abc5-4b58-bf45-89c451f829e6"
      },
      "outputs": [
        {
          "name": "stdout",
          "output_type": "stream",
          "text": [
            "x_0: 0.0000\n",
            "x_1: -0.4127\n",
            "intercept: 1.0286\n"
          ]
        }
      ],
      "source": [
        "from sklearn.linear_model import LinearRegression\n",
        "\n",
        "reg = LinearRegression().fit(X, Y)\n",
        "for idx, x in enumerate(reg.coef_):\n",
        "  print(f'x_{idx}: {x:0.4f}')\n",
        "print(f'intercept: {reg.intercept_:0.4f}')"
      ]
    },
    {
      "cell_type": "markdown",
      "metadata": {
        "id": "_dzv4xmyjCzm"
      },
      "source": [
        "$y = 1.0286 - 0.4127x_{1}$"
      ]
    },
    {
      "cell_type": "code",
      "execution_count": 105,
      "metadata": {
        "colab": {
          "base_uri": "https://localhost:8080/",
          "height": 281
        },
        "id": "o-EBQB2FcIL6",
        "outputId": "4e2aaa9d-7d41-4c06-c04e-f3314d39f7f7"
      },
      "outputs": [
        {
          "data": {
            "image/png": "[encoded data removed]",
            "text/plain": [
              "<Figure size 432x288 with 1 Axes>"
            ]
          },
          "metadata": {
            "needs_background": "light"
          },
          "output_type": "display_data"
        }
      ],
      "source": [
        "import matplotlib.pyplot as plt\n",
        "\n",
        "x1 = list(range(-4,5))\n",
        "x2 = [0, 1, 2]\n",
        "J = lambda x1, x2: (x1 + x2 - 2)**2\n",
        "plt.xlabel('$x_1$')\n",
        "plt.ylabel('J')\n",
        "for idx, i in enumerate(x2):\n",
        "  l = []\n",
        "  for j in x1:\n",
        "    l.append(J(j,i))\n",
        "  plt.plot(x1, l)\n",
        "plt.legend(['$(x_1 + 0 - 2)^2$','$(x_1 + 1 - 2)^2$','$(x_1 + 2 - 2)^2$'])\n",
        "plt.show()"
      ]
    },
    {
      "cell_type": "markdown",
      "metadata": {
        "id": "aBt94-0fzzjM"
      },
      "source": [
        "#Section 2. Closed Form Linear Regression"
      ]
    },
    {
      "cell_type": "markdown",
      "metadata": {
        "id": "CidQRKLXzskI"
      },
      "source": [
        "\n",
        "\n",
        "> Import Necessary Libraries\n",
        "\n"
      ]
    },
    {
      "cell_type": "code",
      "execution_count": 106,
      "metadata": {
        "id": "sXAVIOC7vzsb"
      },
      "outputs": [],
      "source": [
        "import numpy as np\n",
        "import matplotlib.pyplot as plt\n",
        "from math import ceil"
      ]
    },
    {
      "cell_type": "markdown",
      "metadata": {
        "id": "K7eEXHytzvEz"
      },
      "source": [
        "> Reading in the Data\n",
        ">> Randomizing the Data\n",
        "\n",
        ">> Splitting the data into X and Y vectors"
      ]
    },
    {
      "cell_type": "code",
      "execution_count": 107,
      "metadata": {
        "id": "pcWzY3LQv65C"
      },
      "outputs": [],
      "source": [
        "# Read in the data\n",
        "data = np.genfromtxt('x06Simple.csv', delimiter=',', skip_header=1, usecols=(1,2,3))\n",
        "dataMat = np.array(data)\n",
        "# Set RNG with seed = 0\n",
        "np.random.seed(0)\n",
        "np.random.shuffle(dataMat)\n",
        "# Splitting the data into X and Y vectors\n",
        "X = dataMat[:, :-1]\n",
        "Y =  np.reshape(dataMat[:, -1], (-1, 1))"
      ]
    },
    {
      "cell_type": "markdown",
      "metadata": {
        "id": "jTefGvMH0L8m"
      },
      "source": [
        "> Train-Test Split on the data"
      ]
    },
    {
      "cell_type": "code",
      "execution_count": 108,
      "metadata": {
        "id": "QyX0EBgjyEK1"
      },
      "outputs": [],
      "source": [
        "# Split the training and testing sets in a 2:1 ratio\n",
        "n = ceil(X.shape[0] * 2 /3)\n",
        "trainX, testX = np.split(X, [n,])\n",
        "trainY, testY = np.split(Y, [n,])"
      ]
    },
    {
      "cell_type": "markdown",
      "metadata": {
        "id": "rw_UFnfn033A"
      },
      "source": [
        "> Standardizing the Data using the training data\n",
        ">> Take the mean and the standard deviation"
      ]
    },
    {
      "cell_type": "code",
      "execution_count": 109,
      "metadata": {
        "id": "Wvd4FvXVzo_P"
      },
      "outputs": [],
      "source": [
        "mean = trainX.mean(axis=0)\n",
        "std = trainX.std(axis=0, ddof=1)\n",
        "trainX_std = (trainX - mean) / std\n",
        "bias = np.ones((trainX_std.shape[0], 1))\n",
        "x = np.append(bias, trainX_std , axis=1)\n",
        "y = trainY"
      ]
    },
    {
      "cell_type": "markdown",
      "metadata": {
        "id": "rKdcq6Lx1r4T"
      },
      "source": [
        "Find Thetas"
      ]
    },
    {
      "cell_type": "code",
      "execution_count": 110,
      "metadata": {
        "colab": {
          "base_uri": "https://localhost:8080/"
        },
        "id": "cc35Ps3h1w1K",
        "outputId": "6d60fae7-b6b6-4a80-d4d3-9ae551c83053"
      },
      "outputs": [
        {
          "name": "stdout",
          "output_type": "stream",
          "text": [
            "$y =  3275.6667 +1097.6031x_1 -259.3279x_2$\n"
          ]
        }
      ],
      "source": [
        "thetas = np.linalg.inv(x.T @ x) @ (x.T @ y)\n",
        "res = \"$y = \"\n",
        "for idx, theta in enumerate(thetas):\n",
        "  if idx == 0:\n",
        "    res += f'{theta[0]:= 0.4f}'\n",
        "  else:\n",
        "    res += f' {theta[0]:=+0.4f}x_{idx}'\n",
        "res += \"$\"\n",
        "  \n",
        "print(res)"
      ]
    },
    {
      "cell_type": "markdown",
      "metadata": {
        "id": "9bI2bpag2jab"
      },
      "source": [
        "$y = 3275.6667 + 1097.6031x_{1} -259.3279x_{2}$"
      ]
    },
    {
      "cell_type": "markdown",
      "metadata": {
        "id": "W1JEh4RU3UtO"
      },
      "source": [
        "Define RMSE"
      ]
    },
    {
      "cell_type": "code",
      "execution_count": 111,
      "metadata": {
        "colab": {
          "base_uri": "https://localhost:8080/"
        },
        "id": "-I3Ae9ZF2VsF",
        "outputId": "15fa3479-453d-4b39-f28b-274ff73c3525"
      },
      "outputs": [
        {
          "name": "stdout",
          "output_type": "stream",
          "text": [
            "RMSE = 601.9303\n"
          ]
        }
      ],
      "source": [
        "def RMSE(thetas, x, y, mean, std):\n",
        "    x_std = (x - mean) / std\n",
        "    x = np.append(np.ones((x_std.shape[0], 1)), x_std , axis=1)\n",
        "    diff = np.array(y - (x @ thetas))\n",
        "    return np.sqrt((diff ** 2).mean())\n",
        "\n",
        "print(f'RMSE = {RMSE(thetas, testX, testY, mean, std):0.4f}')"
      ]
    },
    {
      "cell_type": "markdown",
      "metadata": {
        "id": "gxRgmFZ671JY"
      },
      "source": [
        "#Section 3. Locally-Weighted Linear Regression"
      ]
    },
    {
      "cell_type": "code",
      "execution_count": 112,
      "metadata": {
        "id": "mtYS8c-y7zHW"
      },
      "outputs": [],
      "source": [
        "import numpy as np\n",
        "import matplotlib.pyplot as plt\n",
        "from sklearn.model_selection import train_test_split as tts"
      ]
    },
    {
      "cell_type": "code",
      "execution_count": 113,
      "metadata": {
        "id": "Ad_09hB68NNu"
      },
      "outputs": [],
      "source": [
        "# Read in the data\n",
        "data = np.genfromtxt('x06Simple.csv', delimiter=',', skip_header=1, usecols=(1,2,3))\n",
        "dataMat = np.array(data)\n",
        "# Set RNG with seed = 0\n",
        "np.random.seed(0)\n",
        "np.random.shuffle(dataMat)\n",
        "# Splitting the data into X and Y vectors\n",
        "X = dataMat[:, :-1]\n",
        "Y =  np.reshape(dataMat[:, -1], (-1, 1))"
      ]
    },
    {
      "cell_type": "code",
      "execution_count": 114,
      "metadata": {
        "id": "wEyvIdHb8PmO"
      },
      "outputs": [],
      "source": [
        "trainX, testX, trainY, testY = tts(X, Y, test_size=0.33, random_state=1, shuffle=False)"
      ]
    },
    {
      "cell_type": "code",
      "execution_count": 115,
      "metadata": {
        "id": "PcbqedwX8gvj"
      },
      "outputs": [],
      "source": [
        "mean = trainX.mean(axis=0)\n",
        "std = trainX.std(axis=0, ddof=1)\n",
        "trainX_std = (trainX - mean) / std\n",
        "testX_std = (testX - mean) / std\n",
        "bias = np.ones((trainX_std.shape[0], 1))\n",
        "x = np.append(bias, trainX_std , axis=1)\n",
        "y = trainY"
      ]
    },
    {
      "cell_type": "code",
      "execution_count": 116,
      "metadata": {
        "colab": {
          "base_uri": "https://localhost:8080/"
        },
        "id": "RYoNRQJP8tMA",
        "outputId": "0726bc26-4cba-44ac-88d6-5fb96008b1b1"
      },
      "outputs": [
        {
          "name": "stdout",
          "output_type": "stream",
          "text": [
            "RMSE = 323.1185\n"
          ]
        }
      ],
      "source": [
        "\n",
        "num_rows_trainX = trainX_std.shape[0]\n",
        "predictions = []\n",
        "k = 1\n",
        "k2 = k**2\n",
        "for testX_data_row in testX_std:\n",
        "    # create identity matrix\n",
        "    W = np.mat(np.eye(num_rows_trainX))\n",
        "    # set diagonal values\n",
        "    for idx, train_x in enumerate(trainX_std):\n",
        "        W[idx, idx] = np.exp(  (-np.absolute(testX_data_row - train_x)/k2).sum() )\n",
        "\n",
        "    # create and add bias feature to standardized training data Xmat\n",
        "    bias_train = np.ones(num_rows_trainX).reshape(num_rows_trainX, 1)\n",
        "    Xnew = np.append(bias_train, trainX_std, axis=1)\n",
        "    # create and add bias feature to standardized testing data Xmat\n",
        "    testX_data_row = np.reshape(testX_data_row, (-1, 2))\n",
        "    bias_test = np.ones(testX_data_row.shape[0]).reshape(testX_data_row.shape[0], 1)\n",
        "    testX_data_row = np.append(bias_test, testX_data_row, axis=1)\n",
        "    # calculate theta\n",
        "    theta = np.linalg.inv(Xnew.T @ W @ Xnew) @ (Xnew.T @ W @ trainY)\n",
        "    prediction = testX_data_row @ theta\n",
        "\n",
        "    predictions.append(prediction)\n",
        "predictions = np.array(predictions).reshape((-1, 1))\n",
        "rmse = np.sqrt(((testY - predictions) ** 2).mean())\n",
        "print(f'RMSE = {rmse:0.4f}')"
      ]
    },
    {
      "cell_type": "markdown",
      "metadata": {
        "id": "nUhQCko4w1oc"
      },
      "source": [
        "#Section 4. Gradient Descent"
      ]
    },
    {
      "cell_type": "code",
      "execution_count": 117,
      "metadata": {
        "id": "ndZ3IGgQxgPY"
      },
      "outputs": [],
      "source": [
        "import numpy as np\n",
        "import matplotlib.pyplot as plt\n",
        "from sklearn.model_selection import train_test_split as tts"
      ]
    },
    {
      "cell_type": "code",
      "execution_count": 118,
      "metadata": {
        "id": "nHQWcr1zxot7"
      },
      "outputs": [],
      "source": [
        "# Read in the data\n",
        "data = np.genfromtxt('x06Simple.csv', delimiter=',', skip_header=1, usecols=(1,2,3))\n",
        "dataMat = np.array(data)\n",
        "# Set RNG with seed = 0\n",
        "np.random.seed(0)\n",
        "np.random.shuffle(dataMat)\n",
        "# Splitting the data into X and Y vectors\n",
        "X = dataMat[:, :-1]\n",
        "Y =  np.reshape(dataMat[:, -1], (-1, 1))"
      ]
    },
    {
      "cell_type": "code",
      "execution_count": 119,
      "metadata": {
        "id": "yD02y0luxsi8"
      },
      "outputs": [],
      "source": [
        "trainX, testX, trainY, testY = tts(X, Y, test_size=0.33, random_state=1, shuffle=False)"
      ]
    },
    {
      "cell_type": "code",
      "execution_count": 120,
      "metadata": {
        "id": "xqx9a0mGxwgo"
      },
      "outputs": [],
      "source": [
        "mean = trainX.mean(axis=0)\n",
        "std = trainX.std(axis=0, ddof=1)\n",
        "trainX_std = (trainX - mean) / std\n",
        "testX_std = (testX - mean) / std\n",
        "bias = np.ones((trainX_std.shape[0], 1))\n",
        "x = np.append(bias, trainX_std , axis=1)\n",
        "y = trainY"
      ]
    },
    {
      "cell_type": "code",
      "execution_count": 121,
      "metadata": {
        "colab": {
          "base_uri": "https://localhost:8080/"
        },
        "id": "cnCwLgm1xb_v",
        "outputId": "e7cdc561-274a-4ca7-b0e1-ff5bd37ee4a9"
      },
      "outputs": [
        {
          "name": "stdout",
          "output_type": "stream",
          "text": [
            "theta_0: 3343.2651\n",
            "theta_1: 1036.6251\n",
            "theta_2: -295.6675\n",
            "$y =  3343.2651 +1036.6251x_1 -295.6675x_2$\n",
            "RMSE = 653.7564\n"
          ]
        }
      ],
      "source": [
        "eta = 0.01\n",
        "i = 0\n",
        "term = 2 ** -23\n",
        "rmseTrain = lambda thetas: RMSE(thetas, x=trainX, y=trainY,  mean=mean, std=std)\n",
        "rmseTest = lambda thetas: RMSE(thetas, x=testX, y=testY, mean=mean, std=std)\n",
        "thetas = np.random.uniform(-1, 1, (3, 1))\n",
        "\n",
        "rmse_test = [rmseTest(thetas)]\n",
        "rmse_train = [rmseTrain(thetas)]\n",
        "while i < 1000:\n",
        "  gradient = 2 * x.T @ ((x @ thetas) - y)\n",
        "  # update thetas by batch gradient descent\n",
        "  thetas -= eta / trainX.shape[0] * gradient\n",
        "  rmse_test.append(rmseTest(thetas))\n",
        "  rmse_train.append(rmseTrain(thetas))\n",
        "  if np.abs(rmse_test[i+1] - rmse_test[i]) / rmse_test[i] < term:\n",
        "    break\n",
        "  i+=1\n",
        "rmse = rmse_test[i+1]\n",
        "\n",
        "res = \"$y = \"\n",
        "for idx, theta in enumerate(thetas):\n",
        "  print(f'theta_{idx}: {theta[0]:0.4f}')\n",
        "  if idx == 0:\n",
        "    res += f'{theta[0]:= 0.4f}'\n",
        "  else:\n",
        "    res += f' {theta[0]:=+0.4f}x_{idx}'\n",
        "res += \"$\"\n",
        "  \n",
        "print(res)\n",
        "print(f'RMSE = {rmse:0.4f}')"
      ]
    },
    {
      "cell_type": "markdown",
      "metadata": {
        "id": "U3GkXe5y0BuQ"
      },
      "source": [
        "# $y =  3343.2651 +1036.6251x_1 -295.6675x_2$\n",
        "# RMSE = 653.7564"
      ]
    },
    {
      "cell_type": "code",
      "execution_count": 122,
      "metadata": {
        "colab": {
          "base_uri": "https://localhost:8080/",
          "height": 295
        },
        "id": "qgyPoxggmxHu",
        "outputId": "c7c367b7-8689-432a-b42f-feebbcd8e5ec"
      },
      "outputs": [
        {
          "data": {
            "image/png": "[encoded data removed]",
            "text/plain": [
              "<Figure size 432x288 with 1 Axes>"
            ]
          },
          "metadata": {
            "needs_background": "light"
          },
          "output_type": "display_data"
        }
      ],
      "source": [
        "import matplotlib.pyplot as plt\n",
        "\n",
        "plt.xlabel('Iteration #')\n",
        "plt.ylabel('RMSE Training')\n",
        "plt.title('RMSE Training vs Iteration')\n",
        "plt.plot(list(range(len(rmse_train))), rmse_train)\n",
        "plt.show()"
      ]
    },
    {
      "cell_type": "code",
      "execution_count": 123,
      "metadata": {
        "colab": {
          "base_uri": "https://localhost:8080/",
          "height": 295
        },
        "id": "Q8d39fcOpcup",
        "outputId": "eda40122-f6f1-4b0a-c986-85fea9d5c0c9"
      },
      "outputs": [
        {
          "data": {
            "image/png": "[encoded data removed]",
            "text/plain": [
              "<Figure size 432x288 with 1 Axes>"
            ]
          },
          "metadata": {
            "needs_background": "light"
          },
          "output_type": "display_data"
        }
      ],
      "source": [
        "import matplotlib.pyplot as plt\n",
        "\n",
        "plt.xlabel('Iteration #')\n",
        "plt.ylabel('RMSE Testing')\n",
        "plt.title('RMSE Testing vs Iteration')\n",
        "plt.plot(list(range(len(rmse_test))), rmse_test)\n",
        "plt.show()"
      ]
    }
  ],
  "metadata": {
    "colab": {
      "collapsed_sections": [],
      "name": "CS383_HW1.ipynb",
      "provenance": []
    },
    "kernelspec": {
      "display_name": "Python 3.8.3 64-bit",
      "language": "python",
      "name": "python3"
    },
    "language_info": {
      "codemirror_mode": {
        "name": "ipython",
        "version": 3
      },
      "file_extension": ".py",
      "mimetype": "text/x-python",
      "name": "python",
      "nbconvert_exporter": "python",
      "pygments_lexer": "ipython3",
      "version": "3.8.3"
    },
    "vscode": {
      "interpreter": {
        "hash": "0b75f8f647cd181f09aab730a19140c67cc9b5de80cd4206b264327ba8fec1ce"
      }
    }
  },
  "nbformat": 4,
  "nbformat_minor": 0
}
